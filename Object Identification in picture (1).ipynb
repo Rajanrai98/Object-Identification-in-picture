{
 "cells": [
  {
   "cell_type": "code",
   "execution_count": 3,
   "id": "a4632436",
   "metadata": {},
   "outputs": [],
   "source": [
    "from tensorflow.keras.utils import load_img\n",
    "from tensorflow.keras.utils import img_to_array\n",
    "from keras.applications.vgg16 import preprocess_input\n",
    "from keras.applications.vgg16 import decode_predictions\n",
    "from keras.applications.vgg16 import VGG16"
   ]
  },
  {
   "cell_type": "code",
   "execution_count": 4,
   "id": "63a5d79a",
   "metadata": {},
   "outputs": [],
   "source": [
    "model = VGG16()"
   ]
  },
  {
   "cell_type": "code",
   "execution_count": 8,
   "id": "474cbdfa",
   "metadata": {},
   "outputs": [],
   "source": [
    "image = load_img(r\"C:\\Users\\user\\Downloads\\cars1.jpg\" ,target_size = (224,224))"
   ]
  },
  {
   "cell_type": "code",
   "execution_count": 9,
   "id": "bda33d64",
   "metadata": {},
   "outputs": [],
   "source": [
    "image = img_to_array(image)"
   ]
  },
  {
   "cell_type": "code",
   "execution_count": 10,
   "id": "09028ef8",
   "metadata": {},
   "outputs": [],
   "source": [
    "image = image.reshape((1,image.shape[0],image.shape[1],image.shape[2]))"
   ]
  },
  {
   "cell_type": "code",
   "execution_count": 11,
   "id": "9d67cfd3",
   "metadata": {},
   "outputs": [],
   "source": [
    "image = preprocess_input(image)"
   ]
  },
  {
   "cell_type": "code",
   "execution_count": 12,
   "id": "3234745a",
   "metadata": {},
   "outputs": [
    {
     "name": "stdout",
     "output_type": "stream",
     "text": [
      "1/1 [==============================] - 2s 2s/step\n"
     ]
    }
   ],
   "source": [
    "y_pred = model.predict(image)"
   ]
  },
  {
   "cell_type": "code",
   "execution_count": 13,
   "id": "3b81ddb0",
   "metadata": {},
   "outputs": [],
   "source": [
    "label = decode_predictions(y_pred)"
   ]
  },
  {
   "cell_type": "code",
   "execution_count": 14,
   "id": "67671f36",
   "metadata": {},
   "outputs": [
    {
     "name": "stdout",
     "output_type": "stream",
     "text": [
      "sports_car(87.59%)\n"
     ]
    }
   ],
   "source": [
    "label = label[0][0]\n",
    "print(\"%s(%.2f%%)\"%(label[1],label[2]*100))"
   ]
  },
  {
   "cell_type": "code",
   "execution_count": null,
   "id": "1f601d38",
   "metadata": {},
   "outputs": [],
   "source": []
  }
 ],
 "metadata": {
  "kernelspec": {
   "display_name": "Python 3 (ipykernel)",
   "language": "python",
   "name": "python3"
  },
  "language_info": {
   "codemirror_mode": {
    "name": "ipython",
    "version": 3
   },
   "file_extension": ".py",
   "mimetype": "text/x-python",
   "name": "python",
   "nbconvert_exporter": "python",
   "pygments_lexer": "ipython3",
   "version": "3.10.9"
  }
 },
 "nbformat": 4,
 "nbformat_minor": 5
}
